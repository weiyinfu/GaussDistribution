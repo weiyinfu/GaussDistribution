{
 "cells": [
  {
   "cell_type": "markdown",
   "metadata": {},
   "source": [
    "# 格鲁布斯检验法\n",
    "* Grubbs' Test\n",
    "* 最大归一化残差检验\n",
    "* 是一种统计分析异常值的方法\n",
    "* 假设：变量x服从正态分布\n",
    "* 作用：检验数据集中的离群值\n",
    "\n",
    "$H_0$:数据集中没有异常点  \n",
    "$H_1$:数据集中只有一个异常点\n",
    "\n",
    "统计量：\n",
    "$$G=\\frac{max_{i=1..N} |X_i-\\overline{X}|}{s}$$\n",
    "\n",
    "$\\overline{X}$和$s$分别为样本的均值和标准偏差。 \n",
    "\n",
    "对于双边检验，若下式成立，则在置信度为$\\alpha$处，0假设成立：\n",
    "$$G\\gt   \\frac{N-1}{\\sqrt{N}}   \\sqrt{\n",
    "    \\frac{t_{{\\alpha/{2N}},N-2}^2}\n",
    "    {N-2+t_{{\\alpha/{2N}},N-2}^2}}$$\n",
    "    \n",
    "对于单边检验，则需要把显著性改为$\\alpha/N$若下式成立，则在置信度为$\\alpha$处，0假设成立：\n",
    "$$G\\gt   \\frac{N-1}{\\sqrt{N}}   \\sqrt{\n",
    "    \\frac{t_{{\\alpha/{N}},N-2}^2}\n",
    "    {N-2+t_{{\\alpha/{N}},N-2}^2}}$$"
   ]
  },
  {
   "cell_type": "markdown",
   "metadata": {},
   "source": [
    "若为双边检测异常：\n",
    "$$A=\\frac{G^2N^2-2G^2N}{(N-1)^2-G^2N} \\sim t(\\frac{\\alpha}{2N},N-2)$$\n",
    "\n",
    "若为单边检测异常：\n",
    "$$A=\\frac{G^2N^2-2G^2N}{(N-1)^2-G^2N} \\sim t(\\frac{\\alpha}{N},N-2)$$\n",
    "\n"
   ]
  }
 ],
 "metadata": {
  "kernelspec": {
   "display_name": "Python 3",
   "language": "python",
   "name": "python3"
  },
  "language_info": {
   "codemirror_mode": {
    "name": "ipython",
    "version": 3
   },
   "file_extension": ".py",
   "mimetype": "text/x-python",
   "name": "python",
   "nbconvert_exporter": "python",
   "pygments_lexer": "ipython3",
   "version": "3.7.6"
  },
  "toc": {
   "base_numbering": 1,
   "nav_menu": {},
   "number_sections": true,
   "sideBar": true,
   "skip_h1_title": false,
   "title_cell": "Table of Contents",
   "title_sidebar": "Contents",
   "toc_cell": false,
   "toc_position": {},
   "toc_section_display": true,
   "toc_window_display": false
  }
 },
 "nbformat": 4,
 "nbformat_minor": 4
}
