{
 "cells": [
  {
   "cell_type": "markdown",
   "metadata": {},
   "source": [
    "# math包中的数学函数"
   ]
  },
  {
   "cell_type": "code",
   "execution_count": 1,
   "metadata": {},
   "outputs": [],
   "source": [
    "import math"
   ]
  },
  {
   "cell_type": "code",
   "execution_count": 144,
   "metadata": {},
   "outputs": [
    {
     "data": {
      "text/plain": [
       "set()"
      ]
     },
     "execution_count": 144,
     "metadata": {},
     "output_type": "execute_result"
    }
   ],
   "source": [
    "a=dir(math)\n",
    "b=dict(\n",
    "    triangle=['acos',\n",
    "     'acosh',\n",
    "     'asin',\n",
    "     'asinh',\n",
    "     'atan',\n",
    "     'atan2',\n",
    "     'atanh',\n",
    "     'tan',\n",
    "     'tanh',\n",
    "     'sin',\n",
    "     'sinh',\n",
    "     'cos',\n",
    "     'cosh'\n",
    "    ],\n",
    "    constant=['e','pi','nan','inf','tau'],\n",
    "    exp=['exp','log','log10',\n",
    "     'log1p',\n",
    "     'log2',\n",
    "     \"expm1\",# exp(x) minus 1=e^x-1\n",
    "    ],\n",
    "    inter=[i for i in a if i.startswith(\"__\")],\n",
    "    is_series=[ 'isclose',\n",
    "         'isfinite',\n",
    "         'isinf',\n",
    "         'isnan',],\n",
    "    mi=['pow','sqrt'],\n",
    "    util=['ceil','floor','copysign','fabs','trunc','fsum','fmod',\n",
    "          'hypot',\n",
    "          'modf',# 把浮点数拆成小数和整数两部分\n",
    "          \"remainder\",# 整数取余\n",
    "          \"frexp\",# 把浮点数分解为f=m*2^k的形式，k为ceil(math.log(f,2))\n",
    "          \"ldexp\",# frexp的逆形式，参数为m和k，返回f，也就是返回m*2^k\n",
    "     ],\n",
    "    integeral=['gcd','factorial','gamma','lgamma'],\n",
    "    angle=['degrees','radians'],\n",
    "    err=['erf','erfc'],# 误差函数\n",
    ")\n",
    "a=set(a)\n",
    "for i in b.values():\n",
    "    a-=set(i)\n",
    "a"
   ]
  },
  {
   "cell_type": "markdown",
   "metadata": {},
   "source": [
    "误差函数，与高斯分布的分布函数关系密切\n",
    "\n",
    "$$erf(x)=\\frac{2}{\\sqrt{\\pi}} \\int_{0}^{x} e^{-\\eta } d\\eta$$  \n",
    "$$erfc(x)=1-erf(x)$$"
   ]
  },
  {
   "cell_type": "code",
   "execution_count": 2,
   "metadata": {},
   "outputs": [
    {
     "ename": "NameError",
     "evalue": "name 'math' is not defined",
     "output_type": "error",
     "traceback": [
      "\u001B[0;31m---------------------------------------------------------------------------\u001B[0m",
      "\u001B[0;31mNameError\u001B[0m                                 Traceback (most recent call last)",
      "\u001B[0;32m<ipython-input-2-272572077154>\u001B[0m in \u001B[0;36m<module>\u001B[0;34m\u001B[0m\n\u001B[0;32m----> 1\u001B[0;31m \u001B[0mmath\u001B[0m\u001B[0;34m.\u001B[0m\u001B[0merf\u001B[0m\u001B[0;34m(\u001B[0m\u001B[0;36m0.3\u001B[0m\u001B[0;34m)\u001B[0m\u001B[0;34m\u001B[0m\u001B[0;34m\u001B[0m\u001B[0m\n\u001B[0m\u001B[1;32m      2\u001B[0m \u001B[0;34m\u001B[0m\u001B[0m\n",
      "\u001B[0;31mNameError\u001B[0m: name 'math' is not defined"
     ]
    }
   ],
   "source": [
    "math.erf(0.3)"
   ]
  },
  {
   "cell_type": "code",
   "execution_count": 139,
   "metadata": {},
   "outputs": [
    {
     "data": {
      "text/plain": [
       "100.0"
      ]
     },
     "execution_count": 139,
     "metadata": {},
     "output_type": "execute_result"
    }
   ],
   "source": [
    "# 验证erf和erfc是互补函数\n",
    "x=np.linspace(0,3,100)\n",
    "y=np.array([math.erf(i)+math.erfc(i) for i in x])\n",
    "np.sum(y)"
   ]
  },
  {
   "cell_type": "code",
   "execution_count": 103,
   "metadata": {},
   "outputs": [
    {
     "data": {
      "text/plain": [
       "-1.0"
      ]
     },
     "execution_count": 103,
     "metadata": {},
     "output_type": "execute_result"
    }
   ],
   "source": [
    "math.remainder(7,2)"
   ]
  },
  {
   "cell_type": "code",
   "execution_count": 146,
   "metadata": {},
   "outputs": [
    {
     "name": "stdout",
     "output_type": "stream",
     "text": [
      "84 56 28 -28.0\n",
      "75 10 5 -5.0\n",
      "42 28 14 -14.0\n",
      "51 2 1 -1.0\n",
      "42 12 6 -6.0\n",
      "75 50 25 -25.0\n",
      "38 4 2 -2.0\n"
     ]
    }
   ],
   "source": [
    "def remainder(x,y):\n",
    "    z=x/y\n",
    "    a,b=math.floor(z),math.ceil(z)\n",
    "    aa,bb=x-a*y,x-b*y\n",
    "    if abs(aa)<=abs(bb):\n",
    "        return aa\n",
    "    else:\n",
    "        return bb\n",
    "# 这个remainder函数实现的有点不一样\n",
    "for i,j in np.random.randint(1,100,(200,2)):\n",
    "    if not remainder(i,j)==math.remainder(i,j):\n",
    "        print(i,j,remainder(i,j),math.remainder(i,j))"
   ]
  },
  {
   "cell_type": "code",
   "execution_count": 99,
   "metadata": {},
   "outputs": [
    {
     "data": {
      "text/plain": [
       "(0.6339999999999999, 3.0)"
      ]
     },
     "execution_count": 99,
     "metadata": {},
     "output_type": "execute_result"
    }
   ],
   "source": [
    "math.modf(3.634)"
   ]
  },
  {
   "cell_type": "code",
   "execution_count": 88,
   "metadata": {},
   "outputs": [
    {
     "data": {
      "text/plain": [
       "(1.345, 0.6725, 1)"
      ]
     },
     "execution_count": 88,
     "metadata": {},
     "output_type": "execute_result"
    }
   ],
   "source": [
    "x,y=math.frexp(1.345)\n",
    "x*2**y,x,y"
   ]
  },
  {
   "cell_type": "code",
   "execution_count": 93,
   "metadata": {},
   "outputs": [],
   "source": [
    "def frexp(x):\n",
    "    y=math.ceil(math.log(x,2))\n",
    "    m=x/(2**y)\n",
    "    return m,y"
   ]
  },
  {
   "cell_type": "code",
   "execution_count": 94,
   "metadata": {},
   "outputs": [
    {
     "data": {
      "text/plain": [
       "((0.6725, 1), (0.6725, 1))"
      ]
     },
     "execution_count": 94,
     "metadata": {},
     "output_type": "execute_result"
    }
   ],
   "source": [
    "math.frexp(1.345),frexp(1.345)"
   ]
  },
  {
   "cell_type": "code",
   "execution_count": 83,
   "metadata": {},
   "outputs": [
    {
     "data": {
      "text/plain": [
       "6.0"
      ]
     },
     "execution_count": 83,
     "metadata": {},
     "output_type": "execute_result"
    }
   ],
   "source": [
    "math.fsum([1,2,3])"
   ]
  },
  {
   "cell_type": "code",
   "execution_count": 76,
   "metadata": {},
   "outputs": [
    {
     "data": {
      "text/plain": [
       "(1.7917594692280554, 1.791759469228055)"
      ]
     },
     "execution_count": 76,
     "metadata": {},
     "output_type": "execute_result"
    }
   ],
   "source": [
    "# loggamma\n",
    "math.lgamma(4),math.log(math.gamma(4))"
   ]
  },
  {
   "cell_type": "code",
   "execution_count": 46,
   "metadata": {},
   "outputs": [
    {
     "data": {
      "text/plain": [
       "(6.0, 6)"
      ]
     },
     "execution_count": 46,
     "metadata": {},
     "output_type": "execute_result"
    }
   ],
   "source": [
    "# 著名的gamma函数\n",
    "math.gamma(4),math.factorial(3)"
   ]
  },
  {
   "cell_type": "code",
   "execution_count": 49,
   "metadata": {},
   "outputs": [
    {
     "data": {
      "text/plain": [
       "9.513507698668732"
      ]
     },
     "execution_count": 49,
     "metadata": {},
     "output_type": "execute_result"
    }
   ],
   "source": [
    "math.gamma(0.1)"
   ]
  },
  {
   "cell_type": "code",
   "execution_count": 52,
   "metadata": {},
   "outputs": [],
   "source": [
    "import numpy as np\n",
    "from matplotlib import pyplot as plt"
   ]
  },
  {
   "cell_type": "markdown",
   "metadata": {},
   "source": [
    "大名鼎鼎的gamma函数，阶乘函数是它的一部分。gamma函数的作用域是：x不等于非正整数。"
   ]
  },
  {
   "cell_type": "code",
   "execution_count": 57,
   "metadata": {},
   "outputs": [
    {
     "data": {
      "text/plain": [
       "[<matplotlib.lines.Line2D at 0x7fe7f014d750>]"
      ]
     },
     "execution_count": 57,
     "metadata": {},
     "output_type": "execute_result"
    },
    {
     "data": {
      "image/png": "[encoded data removed]",
      "text/plain": [
       "<Figure size 432x288 with 1 Axes>"
      ]
     },
     "metadata": {
      "needs_background": "light"
     },
     "output_type": "display_data"
    }
   ],
   "source": [
    "x=np.linspace(0.1,3,100)\n",
    "y=np.array([math.gamma(i)for i in x])\n",
    "plt.plot(x,y)\n",
    "ind=np.argmin(y)\n",
    "plt.plot([x[ind],x[ind]],[np.min(y),np.max(y)])"
   ]
  },
  {
   "cell_type": "code",
   "execution_count": 64,
   "metadata": {},
   "outputs": [
    {
     "data": {
      "text/plain": [
       "1.4616321505432632"
      ]
     },
     "execution_count": 64,
     "metadata": {},
     "output_type": "execute_result"
    }
   ],
   "source": [
    "def find_min(fun,f,t,eps):\n",
    "    # 三分法求函数极小值\n",
    "    while f+eps<t:\n",
    "        dis=(t-f)/3\n",
    "        fm=f+dis\n",
    "        tm=t-dis\n",
    "        fv=fun(fm)\n",
    "        tv=fun(tm)\n",
    "        if fv<tv:\n",
    "            # 谁大谁就移动\n",
    "            t=tm\n",
    "        else:\n",
    "            f=fm\n",
    "    return f\n",
    "min_value=find_min(math.gamma,0.1,3,1e-10)\n",
    "min_value"
   ]
  },
  {
   "cell_type": "code",
   "execution_count": 65,
   "metadata": {},
   "outputs": [
    {
     "data": {
      "text/plain": [
       "(0.4652519634819953, 0.5377044187400691)"
      ]
     },
     "execution_count": 65,
     "metadata": {},
     "output_type": "execute_result"
    }
   ],
   "source": [
    "# 这个数字除以pi和e的和近似为1\n",
    "min_value/math.pi,min_value/math.e"
   ]
  },
  {
   "cell_type": "code",
   "execution_count": 66,
   "metadata": {},
   "outputs": [
    {
     "data": {
      "text/plain": [
       "1.0029563822220644"
      ]
     },
     "execution_count": 66,
     "metadata": {},
     "output_type": "execute_result"
    }
   ],
   "source": [
    "min_value/math.pi+min_value/math.e"
   ]
  },
  {
   "cell_type": "code",
   "execution_count": 69,
   "metadata": {},
   "outputs": [
    {
     "data": {
      "text/plain": [
       "0.6180339887498949"
      ]
     },
     "execution_count": 69,
     "metadata": {},
     "output_type": "execute_result"
    }
   ],
   "source": [
    "# 黄金分割比\n",
    "(5**0.5-1)/2"
   ]
  },
  {
   "cell_type": "code",
   "execution_count": 40,
   "metadata": {},
   "outputs": [
    {
     "data": {
      "text/plain": [
       "True"
      ]
     },
     "execution_count": 40,
     "metadata": {},
     "output_type": "execute_result"
    }
   ],
   "source": [
    "#tau是2pi是一个常数\n",
    "math.tau==2*math.pi"
   ]
  },
  {
   "cell_type": "code",
   "execution_count": 33,
   "metadata": {},
   "outputs": [
    {
     "data": {
      "text/plain": [
       "5.0"
      ]
     },
     "execution_count": 33,
     "metadata": {},
     "output_type": "execute_result"
    }
   ],
   "source": [
    "math.hypot(3,4)# hypot(x,y)=x^2+y^2"
   ]
  },
  {
   "cell_type": "code",
   "execution_count": 23,
   "metadata": {},
   "outputs": [
    {
     "data": {
      "text/plain": [
       "-4.0"
      ]
     },
     "execution_count": 23,
     "metadata": {},
     "output_type": "execute_result"
    }
   ],
   "source": [
    "math.copysign(4,-5)"
   ]
  },
  {
   "cell_type": "code",
   "execution_count": 26,
   "metadata": {},
   "outputs": [
    {
     "data": {
      "text/plain": [
       "(3, -3)"
      ]
     },
     "execution_count": 26,
     "metadata": {},
     "output_type": "execute_result"
    }
   ],
   "source": [
    "# trunc：向0取整\n",
    "math.trunc(3.8),math.trunc(-3.8)"
   ]
  },
  {
   "cell_type": "code",
   "execution_count": 16,
   "metadata": {},
   "outputs": [
    {
     "data": {
      "text/plain": [
       "(inf, nan)"
      ]
     },
     "execution_count": 16,
     "metadata": {},
     "output_type": "execute_result"
    }
   ],
   "source": [
    "math.inf,math.nan"
   ]
  }
 ],
 "metadata": {
  "kernelspec": {
   "display_name": "Python 3",
   "language": "python",
   "name": "python3"
  },
  "language_info": {
   "codemirror_mode": {
    "name": "ipython",
    "version": 3
   },
   "file_extension": ".py",
   "mimetype": "text/x-python",
   "name": "python",
   "nbconvert_exporter": "python",
   "pygments_lexer": "ipython3",
   "version": "3.7.6"
  },
  "toc": {
   "base_numbering": 1,
   "nav_menu": {},
   "number_sections": true,
   "sideBar": true,
   "skip_h1_title": false,
   "title_cell": "Table of Contents",
   "title_sidebar": "Contents",
   "toc_cell": false,
   "toc_position": {},
   "toc_section_display": true,
   "toc_window_display": false
  }
 },
 "nbformat": 4,
 "nbformat_minor": 4
}